{
  "nbformat": 4,
  "nbformat_minor": 0,
  "metadata": {
    "colab": {
      "name": "CVProjectStuff",
      "provenance": [],
      "collapsed_sections": [],
      "authorship_tag": "ABX9TyPcExAir42B05ODLUmyjFyR",
      "include_colab_link": true
    },
    "kernelspec": {
      "name": "python3",
      "display_name": "Python 3"
    },
    "accelerator": "GPU"
  },
  "cells": [
    {
      "cell_type": "markdown",
      "metadata": {
        "id": "view-in-github",
        "colab_type": "text"
      },
      "source": [
        "<a href=\"https://colab.research.google.com/github/1byxero/pytorch-OCID-Dataloder/blob/master/OCID-Dataloader.ipynb\" target=\"_parent\"><img src=\"https://colab.research.google.com/assets/colab-badge.svg\" alt=\"Open In Colab\"/></a>"
      ]
    },
    {
      "cell_type": "code",
      "metadata": {
        "id": "k1QAHNcm9-_j",
        "colab_type": "code",
        "colab": {}
      },
      "source": [
        "import torch\n",
        "import torch.nn as nn\n",
        "import torch.nn.functional as F\n",
        "import torch.utils.data as data\n",
        "import numpy as np\n",
        "\n",
        "import urllib\n",
        "import tarfile\n",
        "import cv2\n",
        "\n",
        "from os import getcwd, listdir\n",
        "from os.path import join as ospj, isdir, isfile\n",
        "\n",
        "class OCIDDataset(data.Dataset):\n",
        "    def custom_listdir(self, path):\n",
        "        if isdir(path):\n",
        "            return listdir(path)        \n",
        "    \n",
        "    def popolate_sample_dict(self, path, fl_name):\n",
        "        fl_name_ext = fl_name.split(\".\")[0]\n",
        "        pcd_file = ospj(path, 'pcd', fl_name_ext+\".pcd\")\n",
        "        if not isfile(pcd_file):\n",
        "            #one pcd folder is incorrectly named as pd\n",
        "            #this takes care of it\n",
        "            pcd_file = \"/pd/\".join(pcd_file.split('/pcd/'))\n",
        "        img = {\n",
        "            'label': ospj(path, 'label', fl_name_ext+\".png\"),\n",
        "            'rgb': ospj(path, 'rgb', fl_name_ext+\".png\"),\n",
        "            'depth': ospj(path, 'depth', fl_name_ext+\".png\"),\n",
        "            'pcd': pcd_file\n",
        "        }\n",
        "        return img\n",
        "    \n",
        "    def create_list_of_samples_from_path(self, path):\n",
        "        angle_type = ['bottom', 'top']\n",
        "        dataset_type = ['ARID10', 'ARID20', 'YCB10']\n",
        "        base_type = ['floor', 'table']\n",
        "\n",
        "        objof = {\n",
        "            'ARID10': ['box', 'curved', 'fruits', 'mixed', 'non-fruits'],\n",
        "            'ARID20': [None],'YCB10': ['cuboid', 'curved', 'mixed']\n",
        "        }\n",
        "        \n",
        "        data = []\n",
        "        for ds in dataset_type:\n",
        "            for bs in base_type:\n",
        "                for angle in angle_type:\n",
        "                    for obj_type in objof[ds]:\n",
        "                        if obj_type is None:\n",
        "                            pth = ospj(path, ds, bs, angle)\n",
        "                            for seq in self.custom_listdir(pth):\n",
        "                                pth2 = ospj(pth, seq)\n",
        "                                dir_contents = self.custom_listdir(pth2)\n",
        "                                if not dir_contents:\n",
        "                                    continue\n",
        "                                for fl_name in self.custom_listdir(\n",
        "                                    ospj(pth2, dir_contents[0])\n",
        "                                ):\n",
        "                                    data.append(\n",
        "                                        self.popolate_sample_dict(pth2, fl_name)\n",
        "                                    )\n",
        "                            continue\n",
        "                        pth = ospj(path, ds, bs, angle, obj_type)\n",
        "                        for seq in self.custom_listdir(pth):\n",
        "                            pth2 = ospj(pth, seq)\n",
        "                            dir_contents = self.custom_listdir(pth2)\n",
        "                            if not dir_contents:\n",
        "                                continue\n",
        "                            for fl_name in self.custom_listdir(\n",
        "                                ospj(pth2, dir_contents[0])\n",
        "                            ):\n",
        "                                data.append(\n",
        "                                    self.popolate_sample_dict(pth2, fl_name)\n",
        "                                )\n",
        "        return data\n",
        "    \n",
        "    def __init__(self):\n",
        "        dataset_dir = ospj(getcwd(), 'OCID-dataset')\n",
        "        if not isdir(dataset_dir):\n",
        "            dataset_tar = ospj(getcwd(), 'OCID-dataset.tar.gz')\n",
        "            if not isfile(dataset_tar):\n",
        "                dataset_url = 'https://data.acin.tuwien.ac.at/index.php/s/g3EkcgcPioolQmJ/download'\n",
        "                print(\"Downloading the OCID dataset...\")\n",
        "                urllib.request.urlretrieve(dataset_url,dataset_tar)\n",
        "                print(\"Download Complete\")\n",
        "            print(\"Extracting dataset tar\")\n",
        "            print(\"This may take a while ...\")\n",
        "            tar = tarfile.open(dataset_tar, \"r:gz\")\n",
        "            tar.extractall()\n",
        "            tar.close()\n",
        "            print(\"Completed extracting!\")        \n",
        "        print(\"OCID dataset is available locally\")\n",
        "        self.samples = self.create_list_of_samples_from_path(dataset_dir)[:10]\n",
        "        print(\"Dataset object created\")\n",
        "        \n",
        "    def __len__(self):\n",
        "        'Denotes the total number of samples'\n",
        "        return len(self.samples)\n",
        "    \n",
        "    def __getitem__(self, index):\n",
        "        'Generates one sample of data'\n",
        "        label = torch.from_numpy(\n",
        "            cv2.imread(self.samples[index]['label'], cv2.IMREAD_UNCHANGED).astype(np.int16)\n",
        "        )\n",
        "        rgb = torch.from_numpy(\n",
        "            cv2.imread(self.samples[index]['rgb']).astype(np.int16)\n",
        "        )\n",
        "        depth = torch.from_numpy(\n",
        "            cv2.imread(self.samples[index]['depth'], cv2.IMREAD_UNCHANGED).astype(np.int16)\n",
        "        )\n",
        "        rgbd = torch.cat(\n",
        "            [rgb, torch.unsqueeze(depth, dim=2)], dim=2\n",
        "        ).permute(2, 1, 0).float()\n",
        "        return rgbd, rgb, depth, label\n"
      ],
      "execution_count": 0,
      "outputs": []
    },
    {
      "cell_type": "code",
      "metadata": {
        "id": "IsRBgnD7EtvV",
        "colab_type": "code",
        "outputId": "50216798-859b-466c-a81b-f8e84ac04503",
        "colab": {
          "base_uri": "https://localhost:8080/",
          "height": 34
        }
      },
      "source": [
        "import time\n",
        "sttime = time.time()\n",
        "ds = OCIDDataset()\n",
        "training_generator = data.DataLoader(ds, batch_size=10)\n",
        "print(\"time taken {} seconds\".format(time.time()-sttime))"
      ],
      "execution_count": 0,
      "outputs": [
        {
          "output_type": "stream",
          "text": [
            "Downloading the OCID dataset...\n"
          ],
          "name": "stdout"
        }
      ]
    }
  ]
}